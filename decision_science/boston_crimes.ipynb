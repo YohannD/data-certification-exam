{
 "cells": [
  {
   "cell_type": "markdown",
   "metadata": {},
   "source": [
    "\n",
    "# Advisory mission for the Boston municipal authorities\n",
    "\n",
    "\n",
    "![title](assets/boston_logo.png)"
   ]
  },
  {
   "cell_type": "markdown",
   "metadata": {},
   "source": [
    "Welcome to the Decision Science exercise of your data certification exam!\n",
    "\n",
    "Here are a few words to describe how the `decision_science` directory is organised:"
   ]
  },
  {
   "cell_type": "code",
   "execution_count": 1,
   "metadata": {
    "ExecuteTime": {
     "end_time": "2021-06-29T07:21:38.970822Z",
     "start_time": "2021-06-29T07:21:38.818229Z"
    }
   },
   "outputs": [
    {
     "name": "stdout",
     "output_type": "stream",
     "text": [
      "\u001b[01;34m.\u001b[00m\r\n",
      "├── README\\ (1).md\r\n",
      "├── boston_crimes.ipynb\r\n",
      "├── \u001b[01;34mdata\u001b[00m\r\n",
      "├── data.py\r\n",
      "├── \u001b[01;34mdb\u001b[00m\r\n",
      "└── \u001b[01;34mtests\u001b[00m\r\n",
      "\r\n",
      "3 directories, 3 files\r\n"
     ]
    }
   ],
   "source": [
    "# Start by running this cell to see the architecture of the directory\n",
    "!tree"
   ]
  },
  {
   "cell_type": "markdown",
   "metadata": {},
   "source": [
    "- the `boston_crimes.ipynb` notebook that you currently have under your eyes is the main document. You will find all the instructions here and except when it is explicitly specified, you should provide all your answers in this notebook;\n",
    "\n",
    "\n",
    "- the `data` and `db` folders will be filled-in throughout the exercise respectively with `.csv` datasets and a `.sqlite` file, for you to run all your analyses; \n",
    "\n",
    "\n",
    "- you will not have to interact with the `assets` folder for this exercise;\n",
    "\n",
    "\n",
    "- the `tests` folder will contain all the `.pickle` files that will be saved throughout the exercise with your key findings. Please run all the \"Save your results\" cells when completing the exercise!"
   ]
  },
  {
   "cell_type": "markdown",
   "metadata": {},
   "source": [
    "⚠️ **Important remark** before you dive into the exercise. This notebook is quite long and it is easy to get lost in it: take full advantage of the collapsible headers and of the table of content. If you have not yet activated these Jupyter Notebook extensions, you may consider doing so now!"
   ]
  },
  {
   "cell_type": "markdown",
   "metadata": {},
   "source": [
    "# Imports"
   ]
  },
  {
   "cell_type": "markdown",
   "metadata": {},
   "source": [
    "You can use this section to run your imports in a centralised manner throughout the exercise."
   ]
  },
  {
   "cell_type": "code",
   "execution_count": 3,
   "metadata": {
    "ExecuteTime": {
     "end_time": "2021-06-29T07:22:40.579413Z",
     "start_time": "2021-06-29T07:22:40.562611Z"
    }
   },
   "outputs": [],
   "source": [
    "# Load the nbresult package to be able to save your results \n",
    "from nbresult import ChallengeResult"
   ]
  },
  {
   "cell_type": "code",
   "execution_count": 4,
   "metadata": {
    "ExecuteTime": {
     "end_time": "2021-06-29T07:22:41.562475Z",
     "start_time": "2021-06-29T07:22:41.560225Z"
    }
   },
   "outputs": [],
   "source": [
    "# Useful import for data collection\n",
    "import sqlite3"
   ]
  },
  {
   "cell_type": "code",
   "execution_count": 5,
   "metadata": {
    "ExecuteTime": {
     "end_time": "2021-06-29T07:22:43.616292Z",
     "start_time": "2021-06-29T07:22:42.755785Z"
    }
   },
   "outputs": [],
   "source": [
    "# Useful imports for data manipulation and analysis\n",
    "import numpy as np\n",
    "import pandas as pd"
   ]
  },
  {
   "cell_type": "code",
   "execution_count": 6,
   "metadata": {
    "ExecuteTime": {
     "end_time": "2021-06-29T07:22:45.310354Z",
     "start_time": "2021-06-29T07:22:43.619491Z"
    }
   },
   "outputs": [],
   "source": [
    "# Useful imports for data visualisation\n",
    "import matplotlib.pyplot as plt\n",
    "import seaborn as sns"
   ]
  },
  {
   "cell_type": "code",
   "execution_count": 7,
   "metadata": {
    "ExecuteTime": {
     "end_time": "2021-06-29T07:22:45.987250Z",
     "start_time": "2021-06-29T07:22:45.313545Z"
    }
   },
   "outputs": [],
   "source": [
    "# Useful imports to estimate regression models\n",
    "import statsmodels.formula.api as smf"
   ]
  },
  {
   "cell_type": "markdown",
   "metadata": {},
   "source": [
    "# 1. Analysis for the mayor's team"
   ]
  },
  {
   "cell_type": "markdown",
   "metadata": {},
   "source": [
    "During the last municipal campaign in Boston, criminality has been a major topic of debates. As citizens have expressed strong expectations from her on that front, the newly-elected mayor of Boston is looking for data-based insights on criminality in the Massachussetts capital. She has mandated your economics and urbanism consulting firm, *The Locomotive*, for this study."
   ]
  },
  {
   "cell_type": "markdown",
   "metadata": {},
   "source": [
    "## 1.1 Load the database"
   ]
  },
  {
   "cell_type": "markdown",
   "metadata": {},
   "source": [
    "Download the `boston_crimes.sqlite` database from this [URL](https://wagon-public-datasets.s3.amazonaws.com/certification_france_2021_q2/boston_crimes.sqlite) and store it inside the `db` folder."
   ]
  },
  {
   "cell_type": "code",
   "execution_count": 8,
   "metadata": {
    "ExecuteTime": {
     "end_time": "2021-06-29T07:26:30.836080Z",
     "start_time": "2021-06-29T07:26:26.577950Z"
    }
   },
   "outputs": [
    {
     "name": "stdout",
     "output_type": "stream",
     "text": [
      "  % Total    % Received % Xferd  Average Speed   Time    Time     Time  Current\n",
      "                                 Dload  Upload   Total   Spent    Left  Speed\n",
      "100 19.1M  100 19.1M    0     0  4825k      0  0:00:04  0:00:04 --:--:-- 4825k\n"
     ]
    }
   ],
   "source": [
    "# You may directly run this cell to do so\n",
    "!curl https://wagon-public-datasets.s3.amazonaws.com/certification_france_2021_q2/boston_crimes.sqlite > db/boston_crimes.sqlite"
   ]
  },
  {
   "cell_type": "markdown",
   "metadata": {},
   "source": [
    "## 1.2 Familiarize yourself with the database"
   ]
  },
  {
   "cell_type": "markdown",
   "metadata": {},
   "source": [
    "This section aims at giving you a first overview of the database. \n",
    "\n",
    "As you will see, it consists in three tables: \n",
    "\n",
    "- the `incident_reports` table has been provided by the Police Department of Boston. Each observation corresponds to a criminal incident that has required an intervention by the police in the municipality of Boston;  \n",
    "\n",
    "\n",
    "\n",
    "- the `districts` table has been provided by the Urbanism Department of Boston. It gathers geographical information about the various police districts of Boston;  \n",
    "\n",
    "\n",
    "\n",
    "- and the `indicators` table has been shared by the Economics Department of Boston, which keeps track of various indicators of the social and economic activity of Boston neighborhoods. Each observation corresponds to a police district.\n",
    "\n",
    "More information about the different fields of these three tables can be found in the dedicated `README.md` file"
   ]
  },
  {
   "cell_type": "markdown",
   "metadata": {},
   "source": [
    "### Connect to the database"
   ]
  },
  {
   "cell_type": "markdown",
   "metadata": {},
   "source": [
    "**🔍 Using your preferred SQL client, connect to the database and browse through it as you wish to get acquainted with the data.**"
   ]
  },
  {
   "cell_type": "markdown",
   "metadata": {},
   "source": [
    "### Draw a schema of the database"
   ]
  },
  {
   "cell_type": "markdown",
   "metadata": {},
   "source": [
    "**📝 Draw the database schema thanks to the [schema editor](https://kitt.lewagon.com/db) on Kitt.**"
   ]
  },
  {
   "cell_type": "markdown",
   "metadata": {},
   "source": [
    "**📝 Download the schema and save it as `boston_crimes.xml` in the `db` folder.**"
   ]
  },
  {
   "cell_type": "markdown",
   "metadata": {},
   "source": [
    "## 1.3 Extract the relevant dataset"
   ]
  },
  {
   "cell_type": "markdown",
   "metadata": {},
   "source": [
    "Now that you have a good overview of the database, you can kick off the work! You will start with an SQL query to gather the relevant information."
   ]
  },
  {
   "cell_type": "markdown",
   "metadata": {},
   "source": [
    "### Build the dataset"
   ]
  },
  {
   "cell_type": "markdown",
   "metadata": {},
   "source": [
    "We want to investigate the influence of the socio-economic characteristics of Boston's different districts on the number of crime reports and incidents. To do so, we need to extract the relevant dataset. **Each row should correspond to one of the 12 police districts of Boston** (as listed in the `districts` table of the database).\n",
    "\n",
    "To identify the district, we will need **the following columns**: \n",
    "\n",
    "- the `CODE` of the police district (1 letter and 1 or 2 numbers);\n",
    "- the full `NAME` of the police district.\n",
    "\n",
    "Additionally, you will need to **create an additional field** (which will serve as dependent variable in future regressions): `NB_INCIDENTS`, i.e. the total number of incidents reported in the police district over the period covered by the data at hand (2015-2019).\n",
    "\n",
    "Eventually, we want the dataset to **include several socio-economic indicators**:\n",
    "\n",
    "- `MEDIAN_AGE`;\n",
    "- `TOTAL_POP`;\n",
    "- `PERC_OF_30_34`;\n",
    "- `PERC_MARRIED_COUPLE_FAMILY`;\n",
    "- `PER_CAPITA_INCOME`;\n",
    "- `PERC_OTHER_STATE_OR_ABROAD`;\n",
    "- `PERC_LESS_THAN_HIGH_SCHOOL`;\n",
    "- `PERC_COLLEGE_GRADUATES`. \n",
    "\n",
    "Overall, your dataset should comprise 12 rows and 11 columns.\n",
    "\n",
    "Eventually, note that **the resulting DataFrame must be ordered by the number of incidents**, from the largest to the smallest total."
   ]
  },
  {
   "cell_type": "markdown",
   "metadata": {},
   "source": [
    "**📝 Write the SQL query you need to fetch the data. Save it as a `str` in the `query` variable.**"
   ]
  },
  {
   "cell_type": "code",
   "execution_count": 24,
   "metadata": {
    "ExecuteTime": {
     "end_time": "2021-06-29T08:03:04.054018Z",
     "start_time": "2021-06-29T08:03:04.049649Z"
    }
   },
   "outputs": [],
   "source": [
    "query = \"\"\"\n",
    "\n",
    "\n",
    "SELECT d.code, \n",
    "d.NAME,\n",
    "count (ir.INCIDENT_NUMBER ) as 'NB_INCIDENTS',\n",
    "i.MEDIAN_AGE,\n",
    "i.TOTAL_POP,\n",
    "i.PERC_OF_30_34,\n",
    "i.PERC_MARRIED_COUPLE_FAMILY,\n",
    "i.PER_CAPITA_INCOME,\n",
    "i.PERC_OTHER_STATE_OR_ABROAD,\n",
    "i.PERC_LESS_THAN_HIGH_SCHOOL,\n",
    "i.PERC_COLLEGE_GRADUATES \n",
    "FROM districts d\n",
    "JOIN incident_reports ir on d.CODE = ir.DISTRICT \n",
    "JOIN indicators i on d.CODE = i.CODE \n",
    "group by d.CODE \n",
    "order by count(ir.INCIDENT_NUMBER ) DESC\n",
    "\n",
    "\"\"\""
   ]
  },
  {
   "cell_type": "markdown",
   "metadata": {},
   "source": [
    "**📝 Store the output of the query in a `DataFrame` named `crimes_df`. Display the 5 first rows, as well as the shape of the dataset.**"
   ]
  },
  {
   "cell_type": "code",
   "execution_count": 27,
   "metadata": {
    "ExecuteTime": {
     "end_time": "2021-06-29T08:03:35.309938Z",
     "start_time": "2021-06-29T08:03:34.943571Z"
    },
    "tags": [
     "challengify"
    ]
   },
   "outputs": [
    {
     "data": {
      "text/html": [
       "<div>\n",
       "<style scoped>\n",
       "    .dataframe tbody tr th:only-of-type {\n",
       "        vertical-align: middle;\n",
       "    }\n",
       "\n",
       "    .dataframe tbody tr th {\n",
       "        vertical-align: top;\n",
       "    }\n",
       "\n",
       "    .dataframe thead th {\n",
       "        text-align: right;\n",
       "    }\n",
       "</style>\n",
       "<table border=\"1\" class=\"dataframe\">\n",
       "  <thead>\n",
       "    <tr style=\"text-align: right;\">\n",
       "      <th></th>\n",
       "      <th>CODE</th>\n",
       "      <th>NAME</th>\n",
       "      <th>NB_INCIDENTS</th>\n",
       "      <th>MEDIAN_AGE</th>\n",
       "      <th>TOTAL_POP</th>\n",
       "      <th>PERC_OF_30_34</th>\n",
       "      <th>PERC_MARRIED_COUPLE_FAMILY</th>\n",
       "      <th>PER_CAPITA_INCOME</th>\n",
       "      <th>PERC_OTHER_STATE_OR_ABROAD</th>\n",
       "      <th>PERC_LESS_THAN_HIGH_SCHOOL</th>\n",
       "      <th>PERC_COLLEGE_GRADUATES</th>\n",
       "    </tr>\n",
       "  </thead>\n",
       "  <tbody>\n",
       "    <tr>\n",
       "      <th>0</th>\n",
       "      <td>B2</td>\n",
       "      <td>Roxbury</td>\n",
       "      <td>38877</td>\n",
       "      <td>32.5</td>\n",
       "      <td>54161</td>\n",
       "      <td>27.8</td>\n",
       "      <td>17.8</td>\n",
       "      <td>20978</td>\n",
       "      <td>2.9</td>\n",
       "      <td>23.0</td>\n",
       "      <td>18.9</td>\n",
       "    </tr>\n",
       "    <tr>\n",
       "      <th>1</th>\n",
       "      <td>C11</td>\n",
       "      <td>Dorchester</td>\n",
       "      <td>32875</td>\n",
       "      <td>33.4</td>\n",
       "      <td>126909</td>\n",
       "      <td>28.2</td>\n",
       "      <td>26.6</td>\n",
       "      <td>29767</td>\n",
       "      <td>2.4</td>\n",
       "      <td>18.0</td>\n",
       "      <td>17.1</td>\n",
       "    </tr>\n",
       "    <tr>\n",
       "      <th>2</th>\n",
       "      <td>D4</td>\n",
       "      <td>South End</td>\n",
       "      <td>31258</td>\n",
       "      <td>37.1</td>\n",
       "      <td>32571</td>\n",
       "      <td>33.9</td>\n",
       "      <td>28.3</td>\n",
       "      <td>83609</td>\n",
       "      <td>6.2</td>\n",
       "      <td>11.8</td>\n",
       "      <td>8.5</td>\n",
       "    </tr>\n",
       "    <tr>\n",
       "      <th>3</th>\n",
       "      <td>B3</td>\n",
       "      <td>Mattapan</td>\n",
       "      <td>28331</td>\n",
       "      <td>36.7</td>\n",
       "      <td>26659</td>\n",
       "      <td>20.9</td>\n",
       "      <td>29.8</td>\n",
       "      <td>28356</td>\n",
       "      <td>2.3</td>\n",
       "      <td>14.5</td>\n",
       "      <td>22.9</td>\n",
       "    </tr>\n",
       "    <tr>\n",
       "      <th>4</th>\n",
       "      <td>A1</td>\n",
       "      <td>Downtown</td>\n",
       "      <td>26260</td>\n",
       "      <td>33.5</td>\n",
       "      <td>18306</td>\n",
       "      <td>32.5</td>\n",
       "      <td>35.8</td>\n",
       "      <td>80057</td>\n",
       "      <td>14.8</td>\n",
       "      <td>15.4</td>\n",
       "      <td>6.9</td>\n",
       "    </tr>\n",
       "  </tbody>\n",
       "</table>\n",
       "</div>"
      ],
      "text/plain": [
       "  CODE        NAME  NB_INCIDENTS  MEDIAN_AGE  TOTAL_POP  PERC_OF_30_34  \\\n",
       "0   B2     Roxbury         38877        32.5      54161           27.8   \n",
       "1  C11  Dorchester         32875        33.4     126909           28.2   \n",
       "2   D4   South End         31258        37.1      32571           33.9   \n",
       "3   B3    Mattapan         28331        36.7      26659           20.9   \n",
       "4   A1    Downtown         26260        33.5      18306           32.5   \n",
       "\n",
       "   PERC_MARRIED_COUPLE_FAMILY  PER_CAPITA_INCOME  PERC_OTHER_STATE_OR_ABROAD  \\\n",
       "0                        17.8              20978                         2.9   \n",
       "1                        26.6              29767                         2.4   \n",
       "2                        28.3              83609                         6.2   \n",
       "3                        29.8              28356                         2.3   \n",
       "4                        35.8              80057                        14.8   \n",
       "\n",
       "   PERC_LESS_THAN_HIGH_SCHOOL  PERC_COLLEGE_GRADUATES  \n",
       "0                        23.0                    18.9  \n",
       "1                        18.0                    17.1  \n",
       "2                        11.8                     8.5  \n",
       "3                        14.5                    22.9  \n",
       "4                        15.4                     6.9  "
      ]
     },
     "execution_count": 27,
     "metadata": {},
     "output_type": "execute_result"
    }
   ],
   "source": [
    "# YOUR CODE HERE\n",
    "\n",
    "import sqlite3\n",
    "\n",
    "conn = sqlite3.connect('db/boston_crimes.sqlite')\n",
    "c = conn.cursor()\n",
    "\n",
    "crimes_df = pd.read_sql(query, conn)\n",
    "crimes_df.head()"
   ]
  },
  {
   "cell_type": "code",
   "execution_count": 28,
   "metadata": {
    "ExecuteTime": {
     "end_time": "2021-06-29T08:03:35.714380Z",
     "start_time": "2021-06-29T08:03:35.707134Z"
    }
   },
   "outputs": [
    {
     "data": {
      "text/plain": [
       "(12, 11)"
      ]
     },
     "execution_count": 28,
     "metadata": {},
     "output_type": "execute_result"
    }
   ],
   "source": [
    "crimes_df.shape"
   ]
  },
  {
   "cell_type": "markdown",
   "metadata": {},
   "source": [
    "The df has the right shape and column names were preserved"
   ]
  },
  {
   "cell_type": "markdown",
   "metadata": {},
   "source": [
    "### Save your results"
   ]
  },
  {
   "cell_type": "markdown",
   "metadata": {},
   "source": [
    "You can run the following cell to save your results:"
   ]
  },
  {
   "cell_type": "code",
   "execution_count": 22,
   "metadata": {
    "ExecuteTime": {
     "end_time": "2021-06-29T08:01:08.909650Z",
     "start_time": "2021-06-29T08:01:08.857163Z"
    }
   },
   "outputs": [],
   "source": [
    "ChallengeResult('sql', query=query, data=crimes_df).write()"
   ]
  },
  {
   "cell_type": "markdown",
   "metadata": {},
   "source": [
    "## 1.4 Linear regression - The socio-economic determinants of criminality\n",
    "\n",
    "As mentioned above, we want to investigate the impact of the socio-economic characteristics of the different Boston police districts on the number of incidents that are reported in these areas. \n",
    "- We are going to use the number of incidents as dependent variable \n",
    "- our regressors will be the various socio-economic indicators extracted from the database."
   ]
  },
  {
   "cell_type": "markdown",
   "metadata": {},
   "source": [
    "### 1.4.1 Start from a fresh dataset\n",
    "\n",
    "To make sure that you are using the right data, you can load a fresh dataset from this [URL](https://wagon-public-datasets.s3.amazonaws.com/certification_france_2021_q2/regression.csv).\n",
    "\n",
    "**📝 Load the data into a DataFrame named `data`**"
   ]
  },
  {
   "cell_type": "code",
   "execution_count": 31,
   "metadata": {
    "ExecuteTime": {
     "end_time": "2021-06-29T08:05:15.655714Z",
     "start_time": "2021-06-29T08:05:15.267282Z"
    },
    "tags": [
     "challengify"
    ]
   },
   "outputs": [],
   "source": [
    "# YOUR CODE HERE\n",
    "\n",
    "data = pd.read_csv('https://wagon-public-datasets.s3.amazonaws.com/certification_france_2021_q2/boston_crimes_regression.csv')"
   ]
  },
  {
   "cell_type": "code",
   "execution_count": 32,
   "metadata": {
    "ExecuteTime": {
     "end_time": "2021-06-29T08:05:15.747522Z",
     "start_time": "2021-06-29T08:05:15.730054Z"
    }
   },
   "outputs": [
    {
     "data": {
      "text/html": [
       "<div>\n",
       "<style scoped>\n",
       "    .dataframe tbody tr th:only-of-type {\n",
       "        vertical-align: middle;\n",
       "    }\n",
       "\n",
       "    .dataframe tbody tr th {\n",
       "        vertical-align: top;\n",
       "    }\n",
       "\n",
       "    .dataframe thead th {\n",
       "        text-align: right;\n",
       "    }\n",
       "</style>\n",
       "<table border=\"1\" class=\"dataframe\">\n",
       "  <thead>\n",
       "    <tr style=\"text-align: right;\">\n",
       "      <th></th>\n",
       "      <th>MEDIAN_AGE</th>\n",
       "      <th>TOTAL_POP</th>\n",
       "      <th>PERC_OF_30_34</th>\n",
       "      <th>PERC_MARRIED_COUPLE_FAMILY</th>\n",
       "      <th>PER_CAPITA_INCOME</th>\n",
       "      <th>PERC_OTHER_STATE_OR_ABROAD</th>\n",
       "      <th>PERC_LESS_THAN_HIGH_SCHOOL</th>\n",
       "      <th>PERC_COLLEGE_GRADUATES</th>\n",
       "      <th>CODE</th>\n",
       "      <th>NB_INCIDENTS</th>\n",
       "      <th>NAME</th>\n",
       "    </tr>\n",
       "  </thead>\n",
       "  <tbody>\n",
       "    <tr>\n",
       "      <th>0</th>\n",
       "      <td>30.8</td>\n",
       "      <td>55297</td>\n",
       "      <td>52.8</td>\n",
       "      <td>26.4</td>\n",
       "      <td>41261</td>\n",
       "      <td>8.6</td>\n",
       "      <td>6.7</td>\n",
       "      <td>10.5</td>\n",
       "      <td>D14</td>\n",
       "      <td>13788</td>\n",
       "      <td>Brighton</td>\n",
       "    </tr>\n",
       "    <tr>\n",
       "      <th>1</th>\n",
       "      <td>35.7</td>\n",
       "      <td>19890</td>\n",
       "      <td>28.2</td>\n",
       "      <td>36.4</td>\n",
       "      <td>75339</td>\n",
       "      <td>3.4</td>\n",
       "      <td>7.9</td>\n",
       "      <td>8.2</td>\n",
       "      <td>A15</td>\n",
       "      <td>4765</td>\n",
       "      <td>Charlestown</td>\n",
       "    </tr>\n",
       "    <tr>\n",
       "      <th>2</th>\n",
       "      <td>33.4</td>\n",
       "      <td>126909</td>\n",
       "      <td>28.2</td>\n",
       "      <td>26.6</td>\n",
       "      <td>29767</td>\n",
       "      <td>2.4</td>\n",
       "      <td>18.0</td>\n",
       "      <td>17.1</td>\n",
       "      <td>C11</td>\n",
       "      <td>32875</td>\n",
       "      <td>Dorchester</td>\n",
       "    </tr>\n",
       "    <tr>\n",
       "      <th>3</th>\n",
       "      <td>33.5</td>\n",
       "      <td>18306</td>\n",
       "      <td>32.5</td>\n",
       "      <td>35.8</td>\n",
       "      <td>80057</td>\n",
       "      <td>14.8</td>\n",
       "      <td>15.4</td>\n",
       "      <td>6.9</td>\n",
       "      <td>A1</td>\n",
       "      <td>26260</td>\n",
       "      <td>Downtown</td>\n",
       "    </tr>\n",
       "    <tr>\n",
       "      <th>4</th>\n",
       "      <td>30.6</td>\n",
       "      <td>47263</td>\n",
       "      <td>31.1</td>\n",
       "      <td>30.4</td>\n",
       "      <td>31473</td>\n",
       "      <td>3.5</td>\n",
       "      <td>27.2</td>\n",
       "      <td>11.5</td>\n",
       "      <td>A7</td>\n",
       "      <td>9691</td>\n",
       "      <td>East Boston</td>\n",
       "    </tr>\n",
       "    <tr>\n",
       "      <th>5</th>\n",
       "      <td>39.4</td>\n",
       "      <td>38924</td>\n",
       "      <td>21.1</td>\n",
       "      <td>38.4</td>\n",
       "      <td>32744</td>\n",
       "      <td>1.9</td>\n",
       "      <td>13.8</td>\n",
       "      <td>21.3</td>\n",
       "      <td>E18</td>\n",
       "      <td>12551</td>\n",
       "      <td>Hyde Park</td>\n",
       "    </tr>\n",
       "    <tr>\n",
       "      <th>6</th>\n",
       "      <td>34.8</td>\n",
       "      <td>40867</td>\n",
       "      <td>32.5</td>\n",
       "      <td>33.7</td>\n",
       "      <td>51655</td>\n",
       "      <td>5.5</td>\n",
       "      <td>8.0</td>\n",
       "      <td>12.1</td>\n",
       "      <td>E13</td>\n",
       "      <td>12802</td>\n",
       "      <td>Jamaica Plain</td>\n",
       "    </tr>\n",
       "    <tr>\n",
       "      <th>7</th>\n",
       "      <td>36.7</td>\n",
       "      <td>26659</td>\n",
       "      <td>20.9</td>\n",
       "      <td>29.8</td>\n",
       "      <td>28356</td>\n",
       "      <td>2.3</td>\n",
       "      <td>14.5</td>\n",
       "      <td>22.9</td>\n",
       "      <td>B3</td>\n",
       "      <td>28331</td>\n",
       "      <td>Mattapan</td>\n",
       "    </tr>\n",
       "    <tr>\n",
       "      <th>8</th>\n",
       "      <td>32.5</td>\n",
       "      <td>54161</td>\n",
       "      <td>27.8</td>\n",
       "      <td>17.8</td>\n",
       "      <td>20978</td>\n",
       "      <td>2.9</td>\n",
       "      <td>23.0</td>\n",
       "      <td>18.9</td>\n",
       "      <td>B2</td>\n",
       "      <td>38877</td>\n",
       "      <td>Roxbury</td>\n",
       "    </tr>\n",
       "    <tr>\n",
       "      <th>9</th>\n",
       "      <td>31.9</td>\n",
       "      <td>36772</td>\n",
       "      <td>46.1</td>\n",
       "      <td>24.7</td>\n",
       "      <td>64745</td>\n",
       "      <td>2.4</td>\n",
       "      <td>7.9</td>\n",
       "      <td>8.4</td>\n",
       "      <td>C6</td>\n",
       "      <td>16617</td>\n",
       "      <td>South Boston</td>\n",
       "    </tr>\n",
       "    <tr>\n",
       "      <th>10</th>\n",
       "      <td>37.1</td>\n",
       "      <td>32571</td>\n",
       "      <td>33.9</td>\n",
       "      <td>28.3</td>\n",
       "      <td>83609</td>\n",
       "      <td>6.2</td>\n",
       "      <td>11.8</td>\n",
       "      <td>8.5</td>\n",
       "      <td>D4</td>\n",
       "      <td>31258</td>\n",
       "      <td>South End</td>\n",
       "    </tr>\n",
       "    <tr>\n",
       "      <th>11</th>\n",
       "      <td>42.8</td>\n",
       "      <td>33526</td>\n",
       "      <td>18.1</td>\n",
       "      <td>46.2</td>\n",
       "      <td>47836</td>\n",
       "      <td>1.9</td>\n",
       "      <td>6.5</td>\n",
       "      <td>13.2</td>\n",
       "      <td>E5</td>\n",
       "      <td>9406</td>\n",
       "      <td>West Roxbury</td>\n",
       "    </tr>\n",
       "  </tbody>\n",
       "</table>\n",
       "</div>"
      ],
      "text/plain": [
       "    MEDIAN_AGE  TOTAL_POP  PERC_OF_30_34  PERC_MARRIED_COUPLE_FAMILY  \\\n",
       "0         30.8      55297           52.8                        26.4   \n",
       "1         35.7      19890           28.2                        36.4   \n",
       "2         33.4     126909           28.2                        26.6   \n",
       "3         33.5      18306           32.5                        35.8   \n",
       "4         30.6      47263           31.1                        30.4   \n",
       "5         39.4      38924           21.1                        38.4   \n",
       "6         34.8      40867           32.5                        33.7   \n",
       "7         36.7      26659           20.9                        29.8   \n",
       "8         32.5      54161           27.8                        17.8   \n",
       "9         31.9      36772           46.1                        24.7   \n",
       "10        37.1      32571           33.9                        28.3   \n",
       "11        42.8      33526           18.1                        46.2   \n",
       "\n",
       "    PER_CAPITA_INCOME  PERC_OTHER_STATE_OR_ABROAD  PERC_LESS_THAN_HIGH_SCHOOL  \\\n",
       "0               41261                         8.6                         6.7   \n",
       "1               75339                         3.4                         7.9   \n",
       "2               29767                         2.4                        18.0   \n",
       "3               80057                        14.8                        15.4   \n",
       "4               31473                         3.5                        27.2   \n",
       "5               32744                         1.9                        13.8   \n",
       "6               51655                         5.5                         8.0   \n",
       "7               28356                         2.3                        14.5   \n",
       "8               20978                         2.9                        23.0   \n",
       "9               64745                         2.4                         7.9   \n",
       "10              83609                         6.2                        11.8   \n",
       "11              47836                         1.9                         6.5   \n",
       "\n",
       "    PERC_COLLEGE_GRADUATES CODE  NB_INCIDENTS           NAME  \n",
       "0                     10.5  D14         13788       Brighton  \n",
       "1                      8.2  A15          4765    Charlestown  \n",
       "2                     17.1  C11         32875     Dorchester  \n",
       "3                      6.9   A1         26260       Downtown  \n",
       "4                     11.5   A7          9691    East Boston  \n",
       "5                     21.3  E18         12551      Hyde Park  \n",
       "6                     12.1  E13         12802  Jamaica Plain  \n",
       "7                     22.9   B3         28331       Mattapan  \n",
       "8                     18.9   B2         38877        Roxbury  \n",
       "9                      8.4   C6         16617   South Boston  \n",
       "10                     8.5   D4         31258      South End  \n",
       "11                    13.2   E5          9406   West Roxbury  "
      ]
     },
     "execution_count": 32,
     "metadata": {},
     "output_type": "execute_result"
    }
   ],
   "source": [
    "data"
   ]
  },
  {
   "cell_type": "markdown",
   "metadata": {},
   "source": [
    "### 1.4.2 Run the regression and output its summary"
   ]
  },
  {
   "cell_type": "markdown",
   "metadata": {},
   "source": [
    "Thanks to the Statsmodels Formula API, we will run the regression described below. \n",
    "\n",
    "The dependent variable (or target variable) should be **the total number of incidents** reported in each police district.\n",
    "\n",
    "We will focus on the following regressors: \n",
    "\n",
    "- the **median age** in the district, whose effect is difficult to anticipate on the number of crimes;\n",
    " \n",
    " \n",
    "- the **percentage of 30-34 years old** in the district, whose effect is also unclear a priori;\n",
    " \n",
    " \n",
    "- the **share of families with a married couple** among all households, which could be anticipated to have a negative effect on criminality (more attention to safety among residents...);\n",
    " \n",
    " \n",
    "- the **percentage of residents having moved from abroad or from another US state over the last year**, mobility being often associated with social marginalisation and possibly with a higher risk of resorting to illegal activities;\n",
    " \n",
    " \n",
    "- the **percentage of residents having stopped their studies before getting a high school degree**. Economic models would suggest that due to the more narrow job opportunities to which this group has access, the incentive is stronger to resort to illicit activities;\n",
    " \n",
    " \n",
    "- the **percentage of college graduates** in the district, which we would expect to have an opposite effect.\n",
    " \n",
    "**📝 Based on these indications, estimate the linear regression model and output its summary in this section of the notebook. Store the estimated model inside a `model` variable.**"
   ]
  },
  {
   "cell_type": "code",
   "execution_count": 85,
   "metadata": {
    "ExecuteTime": {
     "end_time": "2021-06-29T08:44:02.256528Z",
     "start_time": "2021-06-29T08:44:02.251886Z"
    },
    "tags": [
     "challengify"
    ]
   },
   "outputs": [],
   "source": [
    "from sklearn.linear_model import LinearRegression\n",
    "\n",
    "#create X and y variables\n",
    "y = data['NB_INCIDENTS']\n",
    "X = data.drop(columns=['NB_INCIDENTS', 'TOTAL_POP', 'CODE', 'NAME', 'PER_CAPITA_INCOME'])"
   ]
  },
  {
   "cell_type": "code",
   "execution_count": 89,
   "metadata": {
    "ExecuteTime": {
     "end_time": "2021-06-29T08:45:20.024759Z",
     "start_time": "2021-06-29T08:45:20.001547Z"
    },
    "scrolled": true
   },
   "outputs": [
    {
     "data": {
      "text/plain": [
       "0.8986772095306983"
      ]
     },
     "execution_count": 89,
     "metadata": {},
     "output_type": "execute_result"
    }
   ],
   "source": [
    "#fit multivariate OLS model\n",
    "model = smf.ols(formula='NB_INCIDENTS ~ MEDIAN_AGE + PERC_OF_30_34 + PERC_MARRIED_COUPLE_FAMILY +\\\n",
    "                 PERC_OTHER_STATE_OR_ABROAD + PERC_LESS_THAN_HIGH_SCHOOL +\\\n",
    "                 PERC_COLLEGE_GRADUATES', data=data).fit()\n",
    "#get R2 \n",
    "model.rsquared"
   ]
  },
  {
   "cell_type": "code",
   "execution_count": 90,
   "metadata": {
    "ExecuteTime": {
     "end_time": "2021-06-29T08:45:21.038513Z",
     "start_time": "2021-06-29T08:45:21.032353Z"
    }
   },
   "outputs": [
    {
     "data": {
      "text/plain": [
       "Intercept                     13579.170110\n",
       "MEDIAN_AGE                     2252.734415\n",
       "PERC_OF_30_34                  -532.997340\n",
       "PERC_MARRIED_COUPLE_FAMILY    -2115.183942\n",
       "PERC_OTHER_STATE_OR_ABROAD     1787.693933\n",
       "PERC_LESS_THAN_HIGH_SCHOOL      112.737528\n",
       "PERC_COLLEGE_GRADUATES           19.469863\n",
       "dtype: float64"
      ]
     },
     "execution_count": 90,
     "metadata": {},
     "output_type": "execute_result"
    }
   ],
   "source": [
    "#Loading the model parameters\n",
    "model.params"
   ]
  },
  {
   "cell_type": "code",
   "execution_count": 80,
   "metadata": {
    "ExecuteTime": {
     "end_time": "2021-06-29T08:41:12.707531Z",
     "start_time": "2021-06-29T08:41:12.445105Z"
    }
   },
   "outputs": [
    {
     "data": {
      "image/png": "[encoded data removed]",
      "text/plain": [
       "<Figure size 720x432 with 7 Axes>"
      ]
     },
     "metadata": {
      "needs_background": "light"
     },
     "output_type": "display_data"
    }
   ],
   "source": [
    "import statsmodels.api as sm\n",
    "#look at relationships between particular x and y when keeping other variables constant\n",
    "fig = plt.figure(figsize=(10,6))\n",
    "fig = sm.graphics.plot_partregress_grid(model, fig=fig)"
   ]
  },
  {
   "cell_type": "code",
   "execution_count": 82,
   "metadata": {
    "ExecuteTime": {
     "end_time": "2021-06-29T08:41:52.284179Z",
     "start_time": "2021-06-29T08:41:52.252919Z"
    }
   },
   "outputs": [
    {
     "name": "stderr",
     "output_type": "stream",
     "text": [
      "/Users/Yohann/miniforge3/envs/apple_tensorflow/lib/python3.8/site-packages/scipy/stats/stats.py:1603: UserWarning: kurtosistest only valid for n>=20 ... continuing anyway, n=12\n",
      "  warnings.warn(\"kurtosistest only valid for n>=20 ... continuing \"\n"
     ]
    },
    {
     "data": {
      "text/html": [
       "<table class=\"simpletable\">\n",
       "<caption>OLS Regression Results</caption>\n",
       "<tr>\n",
       "  <th>Dep. Variable:</th>      <td>NB_INCIDENTS</td>   <th>  R-squared:         </th> <td>   0.899</td>\n",
       "</tr>\n",
       "<tr>\n",
       "  <th>Model:</th>                   <td>OLS</td>       <th>  Adj. R-squared:    </th> <td>   0.777</td>\n",
       "</tr>\n",
       "<tr>\n",
       "  <th>Method:</th>             <td>Least Squares</td>  <th>  F-statistic:       </th> <td>   7.391</td>\n",
       "</tr>\n",
       "<tr>\n",
       "  <th>Date:</th>             <td>Tue, 29 Jun 2021</td> <th>  Prob (F-statistic):</th>  <td>0.0222</td> \n",
       "</tr>\n",
       "<tr>\n",
       "  <th>Time:</th>                 <td>10:41:52</td>     <th>  Log-Likelihood:    </th> <td> -114.59</td>\n",
       "</tr>\n",
       "<tr>\n",
       "  <th>No. Observations:</th>      <td>    12</td>      <th>  AIC:               </th> <td>   243.2</td>\n",
       "</tr>\n",
       "<tr>\n",
       "  <th>Df Residuals:</th>          <td>     5</td>      <th>  BIC:               </th> <td>   246.6</td>\n",
       "</tr>\n",
       "<tr>\n",
       "  <th>Df Model:</th>              <td>     6</td>      <th>                     </th>     <td> </td>   \n",
       "</tr>\n",
       "<tr>\n",
       "  <th>Covariance Type:</th>      <td>nonrobust</td>    <th>                     </th>     <td> </td>   \n",
       "</tr>\n",
       "</table>\n",
       "<table class=\"simpletable\">\n",
       "<tr>\n",
       "               <td></td>                 <th>coef</th>     <th>std err</th>      <th>t</th>      <th>P>|t|</th>  <th>[0.025</th>    <th>0.975]</th>  \n",
       "</tr>\n",
       "<tr>\n",
       "  <th>Intercept</th>                  <td> 1.358e+04</td> <td> 6.16e+04</td> <td>    0.220</td> <td> 0.834</td> <td>-1.45e+05</td> <td> 1.72e+05</td>\n",
       "</tr>\n",
       "<tr>\n",
       "  <th>MEDIAN_AGE</th>                 <td> 2252.7344</td> <td> 1237.522</td> <td>    1.820</td> <td> 0.128</td> <td> -928.416</td> <td> 5433.885</td>\n",
       "</tr>\n",
       "<tr>\n",
       "  <th>PERC_OF_30_34</th>              <td> -532.9973</td> <td>  468.940</td> <td>   -1.137</td> <td> 0.307</td> <td>-1738.447</td> <td>  672.452</td>\n",
       "</tr>\n",
       "<tr>\n",
       "  <th>PERC_MARRIED_COUPLE_FAMILY</th> <td>-2115.1839</td> <td>  408.344</td> <td>   -5.180</td> <td> 0.004</td> <td>-3164.866</td> <td>-1065.502</td>\n",
       "</tr>\n",
       "<tr>\n",
       "  <th>PERC_OTHER_STATE_OR_ABROAD</th> <td> 1787.6939</td> <td>  532.432</td> <td>    3.358</td> <td> 0.020</td> <td>  419.034</td> <td> 3156.354</td>\n",
       "</tr>\n",
       "<tr>\n",
       "  <th>PERC_LESS_THAN_HIGH_SCHOOL</th> <td>  112.7375</td> <td>  493.977</td> <td>    0.228</td> <td> 0.829</td> <td>-1157.072</td> <td> 1382.547</td>\n",
       "</tr>\n",
       "<tr>\n",
       "  <th>PERC_COLLEGE_GRADUATES</th>     <td>   19.4699</td> <td>  458.775</td> <td>    0.042</td> <td> 0.968</td> <td>-1159.850</td> <td> 1198.790</td>\n",
       "</tr>\n",
       "</table>\n",
       "<table class=\"simpletable\">\n",
       "<tr>\n",
       "  <th>Omnibus:</th>       <td> 6.933</td> <th>  Durbin-Watson:     </th> <td>   2.255</td>\n",
       "</tr>\n",
       "<tr>\n",
       "  <th>Prob(Omnibus):</th> <td> 0.031</td> <th>  Jarque-Bera (JB):  </th> <td>   3.155</td>\n",
       "</tr>\n",
       "<tr>\n",
       "  <th>Skew:</th>          <td> 1.148</td> <th>  Prob(JB):          </th> <td>   0.206</td>\n",
       "</tr>\n",
       "<tr>\n",
       "  <th>Kurtosis:</th>      <td> 4.020</td> <th>  Cond. No.          </th> <td>2.42e+03</td>\n",
       "</tr>\n",
       "</table><br/><br/>Notes:<br/>[1] Standard Errors assume that the covariance matrix of the errors is correctly specified.<br/>[2] The condition number is large, 2.42e+03. This might indicate that there are<br/>strong multicollinearity or other numerical problems."
      ],
      "text/plain": [
       "<class 'statsmodels.iolib.summary.Summary'>\n",
       "\"\"\"\n",
       "                            OLS Regression Results                            \n",
       "==============================================================================\n",
       "Dep. Variable:           NB_INCIDENTS   R-squared:                       0.899\n",
       "Model:                            OLS   Adj. R-squared:                  0.777\n",
       "Method:                 Least Squares   F-statistic:                     7.391\n",
       "Date:                Tue, 29 Jun 2021   Prob (F-statistic):             0.0222\n",
       "Time:                        10:41:52   Log-Likelihood:                -114.59\n",
       "No. Observations:                  12   AIC:                             243.2\n",
       "Df Residuals:                       5   BIC:                             246.6\n",
       "Df Model:                           6                                         \n",
       "Covariance Type:            nonrobust                                         \n",
       "==============================================================================================\n",
       "                                 coef    std err          t      P>|t|      [0.025      0.975]\n",
       "----------------------------------------------------------------------------------------------\n",
       "Intercept                   1.358e+04   6.16e+04      0.220      0.834   -1.45e+05    1.72e+05\n",
       "MEDIAN_AGE                  2252.7344   1237.522      1.820      0.128    -928.416    5433.885\n",
       "PERC_OF_30_34               -532.9973    468.940     -1.137      0.307   -1738.447     672.452\n",
       "PERC_MARRIED_COUPLE_FAMILY -2115.1839    408.344     -5.180      0.004   -3164.866   -1065.502\n",
       "PERC_OTHER_STATE_OR_ABROAD  1787.6939    532.432      3.358      0.020     419.034    3156.354\n",
       "PERC_LESS_THAN_HIGH_SCHOOL   112.7375    493.977      0.228      0.829   -1157.072    1382.547\n",
       "PERC_COLLEGE_GRADUATES        19.4699    458.775      0.042      0.968   -1159.850    1198.790\n",
       "==============================================================================\n",
       "Omnibus:                        6.933   Durbin-Watson:                   2.255\n",
       "Prob(Omnibus):                  0.031   Jarque-Bera (JB):                3.155\n",
       "Skew:                           1.148   Prob(JB):                        0.206\n",
       "Kurtosis:                       4.020   Cond. No.                     2.42e+03\n",
       "==============================================================================\n",
       "\n",
       "Notes:\n",
       "[1] Standard Errors assume that the covariance matrix of the errors is correctly specified.\n",
       "[2] The condition number is large, 2.42e+03. This might indicate that there are\n",
       "strong multicollinearity or other numerical problems.\n",
       "\"\"\""
      ]
     },
     "execution_count": 82,
     "metadata": {},
     "output_type": "execute_result"
    }
   ],
   "source": [
    "#model summary\n",
    "model.summary()"
   ]
  },
  {
   "cell_type": "markdown",
   "metadata": {},
   "source": [
    "### Save your results\n",
    "\n",
    "You can run the following cell to save your results:"
   ]
  },
  {
   "cell_type": "code",
   "execution_count": 91,
   "metadata": {
    "ExecuteTime": {
     "end_time": "2021-06-29T08:46:04.097122Z",
     "start_time": "2021-06-29T08:46:04.089303Z"
    }
   },
   "outputs": [],
   "source": [
    "ChallengeResult(\n",
    "    'linear_regression_model',\n",
    "    data=data,\n",
    "    model=model\n",
    ").write()"
   ]
  },
  {
   "cell_type": "markdown",
   "metadata": {},
   "source": [
    "### 1.4.3 Statistical inference questions 🤯"
   ]
  },
  {
   "cell_type": "markdown",
   "metadata": {},
   "source": [
    "You will now be asked a series of statistical inference and methodological questions about the regression model estimated above. Don't worry if results do not perfectly fit the \"predictions\" that we made earlier about the impact of each regressor: the goal was to form an *a priori* hypothesis, which is validated or invalidated through this empirical analysis."
   ]
  },
  {
   "cell_type": "markdown",
   "metadata": {},
   "source": [
    "#### Questions on the results"
   ]
  },
  {
   "cell_type": "markdown",
   "metadata": {},
   "source": [
    "**❓ Is the median age associated with a positive (increasing the number of crimes) or a negative (decreasing the target variable) effect on the number of crime incidents? Simply write your answer as a string below**"
   ]
  },
  {
   "cell_type": "code",
   "execution_count": 127,
   "metadata": {
    "ExecuteTime": {
     "end_time": "2021-06-29T09:38:23.046530Z",
     "start_time": "2021-06-29T09:38:23.043460Z"
    }
   },
   "outputs": [],
   "source": [
    "answer_median_age = '''\n",
    "\n",
    "As it can be seen on partial reg plots and in the model summary (coef = ~2252), the median age variable seems\n",
    "to have a significant positive effect on the number of crime incidents.\n",
    "\n",
    "'''"
   ]
  },
  {
   "cell_type": "markdown",
   "metadata": {},
   "source": [
    "**❓ What is the t-statistic associated with the median age regressor? How is it computed?**\n",
    "\n",
    "💡 Hint: We are looking at a ratio"
   ]
  },
  {
   "cell_type": "code",
   "execution_count": 128,
   "metadata": {
    "ExecuteTime": {
     "end_time": "2021-06-29T09:38:23.317223Z",
     "start_time": "2021-06-29T09:38:23.313801Z"
    }
   },
   "outputs": [],
   "source": [
    "answer_t_statistic = '''\n",
    "\n",
    "The t-stat of the median age regressor is 1.820. The formula is the following:\n",
    "\n",
    "(population mean - sample mean) / (std deviation / (nb of samples)^-1)\n",
    "\n",
    "'''"
   ]
  },
  {
   "cell_type": "markdown",
   "metadata": {},
   "source": [
    "**📝 Recompute approximately the t-statistic based on the regression summary.**\n",
    "\n",
    "As it is a ratio $t = \\frac{numerator}{denominator}$:\n",
    "- Store the numerator into a `numerator` variable\n",
    "- Store the denominator into a `denominator` variable\n",
    "- Store the t-statistic into a `t_median_age` variable"
   ]
  },
  {
   "cell_type": "code",
   "execution_count": 129,
   "metadata": {
    "ExecuteTime": {
     "end_time": "2021-06-29T09:38:23.569603Z",
     "start_time": "2021-06-29T09:38:23.563925Z"
    }
   },
   "outputs": [],
   "source": [
    "#As we are dealing with a small sample let us use the american median age\n",
    "mean_sample_1 = 38.1\n",
    "mean_sample_2 = np.mean(X['MEDIAN_AGE'])\n",
    "\n",
    "#Here we compute the standard deviation\n",
    "std_sample = np.std(X['MEDIAN_AGE'])\n",
    "\n",
    "#And we take the root of the number of samples\n",
    "root_n_samples = np.sqrt(X.shape[0])"
   ]
  },
  {
   "cell_type": "code",
   "execution_count": 130,
   "metadata": {
    "ExecuteTime": {
     "end_time": "2021-06-29T09:38:23.711452Z",
     "start_time": "2021-06-29T09:38:23.706108Z"
    },
    "tags": [
     "challengify"
    ]
   },
   "outputs": [
    {
     "data": {
      "text/plain": [
       "3.1487147733258927"
      ]
     },
     "execution_count": 130,
     "metadata": {},
     "output_type": "execute_result"
    }
   ],
   "source": [
    "#let's set \n",
    "\n",
    "numerator = (mean_sample_1 - mean_sample_2)\n",
    "\n",
    "denominator = (std_sample / root_n_samples)\n",
    "\n",
    "t_median_age = numerator / denominator\n",
    "\n",
    "t_median_age"
   ]
  },
  {
   "cell_type": "markdown",
   "metadata": {},
   "source": [
    "**❓ What is the p-value associated with the median age regressor? Store it in the `pvalue_median_age` variable (you may directly copy-paste it from the regression summary).** "
   ]
  },
  {
   "cell_type": "code",
   "execution_count": 131,
   "metadata": {
    "ExecuteTime": {
     "end_time": "2021-06-29T09:38:26.105383Z",
     "start_time": "2021-06-29T09:38:26.102230Z"
    },
    "tags": [
     "challengify"
    ]
   },
   "outputs": [],
   "source": [
    "# YOUR CODE HERE\n",
    "\n",
    "pvalue_median_age = 0.128"
   ]
  },
  {
   "cell_type": "markdown",
   "metadata": {},
   "source": [
    "**❓ What does this p-value mean for the median age? Is its effect statistically significant at the 95% confidence level? At the 90% confidence level? Simply formulate your answer in the cell below.**"
   ]
  },
  {
   "cell_type": "code",
   "execution_count": 132,
   "metadata": {
    "ExecuteTime": {
     "end_time": "2021-06-29T09:38:26.952039Z",
     "start_time": "2021-06-29T09:38:26.948331Z"
    }
   },
   "outputs": [],
   "source": [
    "answer_p_value = \"\"\"\n",
    "\n",
    "The p-value is a measurement of how likely the median age coefficient is measured through our model by chance.\n",
    "\n",
    "In other words, there is a 12.8% chance that the median age variable has no effect \n",
    "on the dependent variable (nb of incidents) and that results are produced by chance.\n",
    "\n",
    "This p-value is not significant at a 90% (alpha = 0.1) or 95% (alpha = 0.05) confidence level\n",
    "\n",
    "\"\"\""
   ]
  },
  {
   "cell_type": "markdown",
   "metadata": {},
   "source": [
    "**❓ What are the two regressors whose effect is statistically significant at the 95% confidence level in this regression model? Store the name of the variables as a list of strings in the `significant_regressors` variable.**"
   ]
  },
  {
   "cell_type": "code",
   "execution_count": 133,
   "metadata": {
    "ExecuteTime": {
     "end_time": "2021-06-29T09:38:28.159343Z",
     "start_time": "2021-06-29T09:38:28.156957Z"
    },
    "tags": [
     "challengify"
    ]
   },
   "outputs": [],
   "source": [
    "# YOUR CODE HERE\n",
    "# Significant regressors have a p-value < 0.05\n",
    "\n",
    "\n",
    "significant_regressors = ['PERC_MARRIED_COUPLE_FAMILY', 'PERC_OTHER_STATE_OR_ABROAD']"
   ]
  },
  {
   "cell_type": "markdown",
   "metadata": {},
   "source": [
    "**❓ Holding all other regressors constant, by how much does the total number of incidents increase or decrease when the share of families with a married couple increases by 1 percentage point in the district? Please formulate a full sentence with statistical rigor!**"
   ]
  },
  {
   "cell_type": "code",
   "execution_count": 134,
   "metadata": {
    "ExecuteTime": {
     "end_time": "2021-06-29T09:38:28.760811Z",
     "start_time": "2021-06-29T09:38:28.757965Z"
    }
   },
   "outputs": [],
   "source": [
    "answer_how_much_increase = \"\"\"\n",
    "\n",
    "We can deduce from the summary that an increase of 1% of the share of families with a married couple lead to a \n",
    "reduction of 2115 incidents on average, 3165 at max, 1066 at min. (2 std deviations). These conclusions are \n",
    "statistically significant and exclude outliers.\n",
    "\n",
    "\n",
    "\"\"\""
   ]
  },
  {
   "cell_type": "markdown",
   "metadata": {},
   "source": [
    "#### Limits of this regression model"
   ]
  },
  {
   "cell_type": "markdown",
   "metadata": {},
   "source": [
    "You had asked the intern on the team to estimate a linear regression model so as to investigate the socio-economic determinants of crime in Boston. The results above are those that he presented. In the email he sent to you, he added:\n",
    "\n",
    "> *You will probably notice the extremely high R-squared score of this model: I think we have an excellent fit and the results are solid* 😄\n",
    "\n",
    "But you have very strong doubts about this regression and you think it is a perfect occasion to give some very important advice to your intern..."
   ]
  },
  {
   "cell_type": "markdown",
   "metadata": {},
   "source": [
    "**❓  What is the main limitation of this (clearly spurious) regression according to you? This observation explains why we are getting a very high R-squared and large standard errors. Please provide your answer in the following Markdown cell.**"
   ]
  },
  {
   "cell_type": "code",
   "execution_count": 135,
   "metadata": {
    "ExecuteTime": {
     "end_time": "2021-06-29T09:38:30.149649Z",
     "start_time": "2021-06-29T09:38:30.132666Z"
    }
   },
   "outputs": [
    {
     "data": {
      "text/html": [
       "<div>\n",
       "<style scoped>\n",
       "    .dataframe tbody tr th:only-of-type {\n",
       "        vertical-align: middle;\n",
       "    }\n",
       "\n",
       "    .dataframe tbody tr th {\n",
       "        vertical-align: top;\n",
       "    }\n",
       "\n",
       "    .dataframe thead th {\n",
       "        text-align: right;\n",
       "    }\n",
       "</style>\n",
       "<table border=\"1\" class=\"dataframe\">\n",
       "  <thead>\n",
       "    <tr style=\"text-align: right;\">\n",
       "      <th></th>\n",
       "      <th>VIF Factor</th>\n",
       "      <th>features</th>\n",
       "    </tr>\n",
       "  </thead>\n",
       "  <tbody>\n",
       "    <tr>\n",
       "      <th>0</th>\n",
       "      <td>167.9</td>\n",
       "      <td>MEDIAN_AGE</td>\n",
       "    </tr>\n",
       "    <tr>\n",
       "      <th>1</th>\n",
       "      <td>14.8</td>\n",
       "      <td>PERC_OF_30_34</td>\n",
       "    </tr>\n",
       "    <tr>\n",
       "      <th>2</th>\n",
       "      <td>71.4</td>\n",
       "      <td>PERC_MARRIED_COUPLE_FAMILY</td>\n",
       "    </tr>\n",
       "    <tr>\n",
       "      <th>3</th>\n",
       "      <td>4.3</td>\n",
       "      <td>PERC_OTHER_STATE_OR_ABROAD</td>\n",
       "    </tr>\n",
       "    <tr>\n",
       "      <th>4</th>\n",
       "      <td>6.3</td>\n",
       "      <td>PERC_LESS_THAN_HIGH_SCHOOL</td>\n",
       "    </tr>\n",
       "    <tr>\n",
       "      <th>5</th>\n",
       "      <td>17.6</td>\n",
       "      <td>PERC_COLLEGE_GRADUATES</td>\n",
       "    </tr>\n",
       "  </tbody>\n",
       "</table>\n",
       "</div>"
      ],
      "text/plain": [
       "   VIF Factor                    features\n",
       "0       167.9                  MEDIAN_AGE\n",
       "1        14.8               PERC_OF_30_34\n",
       "2        71.4  PERC_MARRIED_COUPLE_FAMILY\n",
       "3         4.3  PERC_OTHER_STATE_OR_ABROAD\n",
       "4         6.3  PERC_LESS_THAN_HIGH_SCHOOL\n",
       "5        17.6      PERC_COLLEGE_GRADUATES"
      ]
     },
     "execution_count": 135,
     "metadata": {},
     "output_type": "execute_result"
    }
   ],
   "source": [
    "from statsmodels.stats.outliers_influence import variance_inflation_factor\n",
    "\n",
    "vif = pd.DataFrame()\n",
    "vif[\"VIF Factor\"] = [variance_inflation_factor(X.values, i) for i in range(X.shape[1])]\n",
    "vif[\"features\"] = X.columns\n",
    "\n",
    "vif.round(1)"
   ]
  },
  {
   "cell_type": "code",
   "execution_count": 136,
   "metadata": {
    "ExecuteTime": {
     "end_time": "2021-06-29T09:38:31.501667Z",
     "start_time": "2021-06-29T09:38:31.499227Z"
    }
   },
   "outputs": [],
   "source": [
    "answer_limitations = \"\"\"\n",
    "\n",
    "The most likely reason is multicollinearity. As you can see above, 4 features have a vif value > 5, which indicates\n",
    "a strong collinearity with other features. In other words, these features explain the 'same variance'.\n",
    "\n",
    "If you think about it, it makes sense: if median age increases, then the % of married couple will likely increase also. \n",
    "\n",
    "\"\"\""
   ]
  },
  {
   "cell_type": "markdown",
   "metadata": {},
   "source": [
    "It can easily be tested.."
   ]
  },
  {
   "cell_type": "code",
   "execution_count": 137,
   "metadata": {
    "ExecuteTime": {
     "end_time": "2021-06-29T09:38:33.463152Z",
     "start_time": "2021-06-29T09:38:33.445139Z"
    }
   },
   "outputs": [
    {
     "data": {
      "text/plain": [
       "0.3549505255850467"
      ]
     },
     "execution_count": 137,
     "metadata": {},
     "output_type": "execute_result"
    }
   ],
   "source": [
    "\n",
    "model_test = smf.ols(formula='NB_INCIDENTS ~ MEDIAN_AGE + PERC_OF_30_34 +\\\n",
    "                 PERC_OTHER_STATE_OR_ABROAD + PERC_LESS_THAN_HIGH_SCHOOL +\\\n",
    "                 PERC_COLLEGE_GRADUATES', data=data).fit()\n",
    "#get R2 \n",
    "model_test.rsquared"
   ]
  },
  {
   "cell_type": "markdown",
   "metadata": {},
   "source": [
    "R2 is divided by more than 2 just by removing the % of married couple!"
   ]
  },
  {
   "cell_type": "code",
   "execution_count": 142,
   "metadata": {
    "ExecuteTime": {
     "end_time": "2021-06-29T09:39:58.418975Z",
     "start_time": "2021-06-29T09:39:58.379496Z"
    }
   },
   "outputs": [
    {
     "data": {
      "text/html": [
       "<div>\n",
       "<style scoped>\n",
       "    .dataframe tbody tr th:only-of-type {\n",
       "        vertical-align: middle;\n",
       "    }\n",
       "\n",
       "    .dataframe tbody tr th {\n",
       "        vertical-align: top;\n",
       "    }\n",
       "\n",
       "    .dataframe thead th {\n",
       "        text-align: right;\n",
       "    }\n",
       "</style>\n",
       "<table border=\"1\" class=\"dataframe\">\n",
       "  <thead>\n",
       "    <tr style=\"text-align: right;\">\n",
       "      <th></th>\n",
       "      <th>VIF Factor</th>\n",
       "      <th>features</th>\n",
       "    </tr>\n",
       "  </thead>\n",
       "  <tbody>\n",
       "    <tr>\n",
       "      <th>0</th>\n",
       "      <td>23.8</td>\n",
       "      <td>MEDIAN_AGE</td>\n",
       "    </tr>\n",
       "    <tr>\n",
       "      <th>1</th>\n",
       "      <td>10.1</td>\n",
       "      <td>PERC_OF_30_34</td>\n",
       "    </tr>\n",
       "    <tr>\n",
       "      <th>2</th>\n",
       "      <td>4.0</td>\n",
       "      <td>PERC_OTHER_STATE_OR_ABROAD</td>\n",
       "    </tr>\n",
       "    <tr>\n",
       "      <th>3</th>\n",
       "      <td>6.0</td>\n",
       "      <td>PERC_LESS_THAN_HIGH_SCHOOL</td>\n",
       "    </tr>\n",
       "    <tr>\n",
       "      <th>4</th>\n",
       "      <td>14.5</td>\n",
       "      <td>PERC_COLLEGE_GRADUATES</td>\n",
       "    </tr>\n",
       "  </tbody>\n",
       "</table>\n",
       "</div>"
      ],
      "text/plain": [
       "   VIF Factor                    features\n",
       "0        23.8                  MEDIAN_AGE\n",
       "1        10.1               PERC_OF_30_34\n",
       "2         4.0  PERC_OTHER_STATE_OR_ABROAD\n",
       "3         6.0  PERC_LESS_THAN_HIGH_SCHOOL\n",
       "4        14.5      PERC_COLLEGE_GRADUATES"
      ]
     },
     "execution_count": 142,
     "metadata": {},
     "output_type": "execute_result"
    }
   ],
   "source": [
    "from statsmodels.stats.outliers_influence import variance_inflation_factor\n",
    "\n",
    "vif = pd.DataFrame()\n",
    "vif[\"VIF Factor\"] = [variance_inflation_factor(X.drop(columns='PERC_MARRIED_COUPLE_FAMILY').values, i) for i in range(X.drop(columns='PERC_MARRIED_COUPLE_FAMILY').shape[1])]\n",
    "vif[\"features\"] = X.drop(columns='PERC_MARRIED_COUPLE_FAMILY').columns\n",
    "\n",
    "vif.round(1)"
   ]
  },
  {
   "cell_type": "markdown",
   "metadata": {},
   "source": [
    "Looking better already :-)"
   ]
  },
  {
   "cell_type": "markdown",
   "metadata": {},
   "source": [
    "### Save your results\n",
    "\n",
    "You can run the following cell to save your results:"
   ]
  },
  {
   "cell_type": "code",
   "execution_count": 143,
   "metadata": {
    "ExecuteTime": {
     "end_time": "2021-06-29T09:40:30.769351Z",
     "start_time": "2021-06-29T09:40:30.757447Z"
    }
   },
   "outputs": [],
   "source": [
    "import json\n",
    "answers_inference = {\"MEDIAN_AGE\": answer_median_age,\n",
    "                    \"T_STAT\":answer_t_statistic,\n",
    "                     \"P_VALUE\": answer_p_value,\n",
    "                     \"INCREASE\": answer_how_much_increase,\n",
    "                     \"LIMITATIONS\": answer_limitations}\n",
    "\n",
    "with open(\"tests/answers_inference.json\", \"w\", encoding=\"utf-8\") as f:\n",
    "    json.dump(answers_inference, f, ensure_ascii=False, indent=4)\n",
    "\n",
    "ChallengeResult(\n",
    "    'linear_regression_analysis',\n",
    "    model=model,\n",
    "    numerator=numerator,\n",
    "    denominator=denominator,\n",
    "    t=t_median_age,\n",
    "    pvalue=pvalue_median_age,\n",
    "    regressors=significant_regressors\n",
    ").write()"
   ]
  },
  {
   "cell_type": "markdown",
   "metadata": {},
   "source": [
    "# 2. Analysis for the police department"
   ]
  },
  {
   "cell_type": "markdown",
   "metadata": {},
   "source": [
    "The head of the Police Department of Boston, who read your report for the Mayor's team, was extremely interested in the results. He contacted your consulting firm for an additional presentation, that would focus on the nature of crimes that take place in Boston, the potential time trends that you could identify and/or the heterogeneity of the impact of criminality on the different police districts. "
   ]
  },
  {
   "cell_type": "markdown",
   "metadata": {},
   "source": [
    "## 2.1 Start with a fresh dataset"
   ]
  },
  {
   "cell_type": "markdown",
   "metadata": {},
   "source": [
    "You will start from a fresh dataset, that corresponds more or less to the `incident_reports` table of the database."
   ]
  },
  {
   "cell_type": "code",
   "execution_count": 144,
   "metadata": {
    "ExecuteTime": {
     "end_time": "2021-06-29T09:40:50.304962Z",
     "start_time": "2021-06-29T09:40:46.027855Z"
    }
   },
   "outputs": [
    {
     "name": "stdout",
     "output_type": "stream",
     "text": [
      "  % Total    % Received % Xferd  Average Speed   Time    Time     Time  Current\n",
      "                                 Dload  Upload   Total   Spent    Left  Speed\n",
      "100 19.1M  100 19.1M    0     0  5435k      0  0:00:03  0:00:03 --:--:-- 5434kk\n",
      "  % Total    % Received % Xferd  Average Speed   Time    Time     Time  Current\n",
      "                                 Dload  Upload   Total   Spent    Left  Speed\n",
      "100   498  100   498    0     0   1643      0 --:--:-- --:--:-- --:--:--  1643\n"
     ]
    }
   ],
   "source": [
    "# Run this cell to download the datasets in the data directory\n",
    "!curl https://wagon-public-datasets.s3.amazonaws.com/certification_france_2021_q2/incident_reports.csv > data/incident_reports.csv   \n",
    "!curl https://wagon-public-datasets.s3.amazonaws.com/certification_france_2021_q2/districts.csv > data/districts.csv    "
   ]
  },
  {
   "cell_type": "code",
   "execution_count": 159,
   "metadata": {
    "ExecuteTime": {
     "end_time": "2021-06-29T09:51:31.628322Z",
     "start_time": "2021-06-29T09:51:31.245835Z"
    }
   },
   "outputs": [
    {
     "name": "stdout",
     "output_type": "stream",
     "text": [
      "Shape of the DataFrame: (237221, 9)\n"
     ]
    },
    {
     "data": {
      "text/html": [
       "<div>\n",
       "<style scoped>\n",
       "    .dataframe tbody tr th:only-of-type {\n",
       "        vertical-align: middle;\n",
       "    }\n",
       "\n",
       "    .dataframe tbody tr th {\n",
       "        vertical-align: top;\n",
       "    }\n",
       "\n",
       "    .dataframe thead th {\n",
       "        text-align: right;\n",
       "    }\n",
       "</style>\n",
       "<table border=\"1\" class=\"dataframe\">\n",
       "  <thead>\n",
       "    <tr style=\"text-align: right;\">\n",
       "      <th></th>\n",
       "      <th>INCIDENT_NUMBER</th>\n",
       "      <th>OFFENSE_CODE_GROUP</th>\n",
       "      <th>SHOOTING</th>\n",
       "      <th>OCCURRED_ON_DATE</th>\n",
       "      <th>LAT</th>\n",
       "      <th>LONG</th>\n",
       "      <th>NAME</th>\n",
       "      <th>LAT_POLICE_STATION</th>\n",
       "      <th>LONG_POLICE_STATION</th>\n",
       "    </tr>\n",
       "  </thead>\n",
       "  <tbody>\n",
       "    <tr>\n",
       "      <th>0</th>\n",
       "      <td>I192068249</td>\n",
       "      <td>Other</td>\n",
       "      <td>0</td>\n",
       "      <td>2015-08-28 10:20:00</td>\n",
       "      <td>42.330119</td>\n",
       "      <td>-71.084251</td>\n",
       "      <td>Roxbury</td>\n",
       "      <td>42.328894</td>\n",
       "      <td>-71.085359</td>\n",
       "    </tr>\n",
       "    <tr>\n",
       "      <th>1</th>\n",
       "      <td>I182074094</td>\n",
       "      <td>Violence and harassment</td>\n",
       "      <td>0</td>\n",
       "      <td>2015-09-14 09:31:00</td>\n",
       "      <td>42.315142</td>\n",
       "      <td>-71.067047</td>\n",
       "      <td>Roxbury</td>\n",
       "      <td>42.328894</td>\n",
       "      <td>-71.085359</td>\n",
       "    </tr>\n",
       "    <tr>\n",
       "      <th>2</th>\n",
       "      <td>I182054888</td>\n",
       "      <td>Violence and harassment</td>\n",
       "      <td>0</td>\n",
       "      <td>2015-07-12 15:37:00</td>\n",
       "      <td>42.312243</td>\n",
       "      <td>-71.075499</td>\n",
       "      <td>Roxbury</td>\n",
       "      <td>42.328894</td>\n",
       "      <td>-71.085359</td>\n",
       "    </tr>\n",
       "    <tr>\n",
       "      <th>3</th>\n",
       "      <td>I182054888</td>\n",
       "      <td>Other</td>\n",
       "      <td>0</td>\n",
       "      <td>2015-07-12 15:37:00</td>\n",
       "      <td>42.312243</td>\n",
       "      <td>-71.075499</td>\n",
       "      <td>Roxbury</td>\n",
       "      <td>42.328894</td>\n",
       "      <td>-71.085359</td>\n",
       "    </tr>\n",
       "    <tr>\n",
       "      <th>4</th>\n",
       "      <td>I182054888</td>\n",
       "      <td>Other</td>\n",
       "      <td>0</td>\n",
       "      <td>2015-07-12 15:37:00</td>\n",
       "      <td>42.312243</td>\n",
       "      <td>-71.075499</td>\n",
       "      <td>Roxbury</td>\n",
       "      <td>42.328894</td>\n",
       "      <td>-71.085359</td>\n",
       "    </tr>\n",
       "  </tbody>\n",
       "</table>\n",
       "</div>"
      ],
      "text/plain": [
       "  INCIDENT_NUMBER       OFFENSE_CODE_GROUP  SHOOTING     OCCURRED_ON_DATE  \\\n",
       "0      I192068249                    Other         0  2015-08-28 10:20:00   \n",
       "1      I182074094  Violence and harassment         0  2015-09-14 09:31:00   \n",
       "2      I182054888  Violence and harassment         0  2015-07-12 15:37:00   \n",
       "3      I182054888                    Other         0  2015-07-12 15:37:00   \n",
       "4      I182054888                    Other         0  2015-07-12 15:37:00   \n",
       "\n",
       "         LAT       LONG     NAME  LAT_POLICE_STATION  LONG_POLICE_STATION  \n",
       "0  42.330119 -71.084251  Roxbury           42.328894           -71.085359  \n",
       "1  42.315142 -71.067047  Roxbury           42.328894           -71.085359  \n",
       "2  42.312243 -71.075499  Roxbury           42.328894           -71.085359  \n",
       "3  42.312243 -71.075499  Roxbury           42.328894           -71.085359  \n",
       "4  42.312243 -71.075499  Roxbury           42.328894           -71.085359  "
      ]
     },
     "execution_count": 159,
     "metadata": {},
     "output_type": "execute_result"
    }
   ],
   "source": [
    "# Load the dataset\n",
    "from data import load_data_viz_data\n",
    "\n",
    "data = load_data_viz_data()\n",
    "data[['LAT','LONG']] = data[['LAT','LONG']].astype('float64')\n",
    "\n",
    "print(\"Shape of the DataFrame:\", data.shape)\n",
    "\n",
    "data.head()"
   ]
  },
  {
   "cell_type": "markdown",
   "metadata": {},
   "source": [
    "## 2.1 Further data manipulations"
   ]
  },
  {
   "cell_type": "markdown",
   "metadata": {},
   "source": [
    "In this section, we are going to answer two specific questions that the head of the Police Department of Boston asked your team, about the characteristics of the incidents that occur in the various districts of the municipality."
   ]
  },
  {
   "cell_type": "markdown",
   "metadata": {},
   "source": [
    "### 2.1.1 Most represented type of incident per district"
   ]
  },
  {
   "cell_type": "markdown",
   "metadata": {},
   "source": [
    "First, the head of the Police Department of Boston wants to know what incident category is most often found in each district. \n",
    "\n",
    "**📝 Construct a DataFrame with**\n",
    "- **one row per police district, designated by its full name**\n",
    "- **one text column that indicates the name of the most common category of incident in the district over the whole sample period.**\n",
    "\n",
    "💡 Hint: you may need to first define a custom aggregation function."
   ]
  },
  {
   "cell_type": "code",
   "execution_count": 231,
   "metadata": {
    "ExecuteTime": {
     "end_time": "2021-06-29T12:17:49.358090Z",
     "start_time": "2021-06-29T12:17:49.297144Z"
    },
    "tags": [
     "challengify"
    ]
   },
   "outputs": [
    {
     "data": {
      "text/html": [
       "<div>\n",
       "<style scoped>\n",
       "    .dataframe tbody tr th:only-of-type {\n",
       "        vertical-align: middle;\n",
       "    }\n",
       "\n",
       "    .dataframe tbody tr th {\n",
       "        vertical-align: top;\n",
       "    }\n",
       "\n",
       "    .dataframe thead th {\n",
       "        text-align: right;\n",
       "    }\n",
       "</style>\n",
       "<table border=\"1\" class=\"dataframe\">\n",
       "  <thead>\n",
       "    <tr style=\"text-align: right;\">\n",
       "      <th></th>\n",
       "      <th>OFFENSE_CODE_GROUP</th>\n",
       "    </tr>\n",
       "    <tr>\n",
       "      <th>NAME</th>\n",
       "      <th></th>\n",
       "    </tr>\n",
       "  </thead>\n",
       "  <tbody>\n",
       "    <tr>\n",
       "      <th>Brighton</th>\n",
       "      <td>Larceny and vandalism ; Police investigation p...</td>\n",
       "    </tr>\n",
       "    <tr>\n",
       "      <th>Charlestown</th>\n",
       "      <td>Larceny and vandalism ; Police investigation p...</td>\n",
       "    </tr>\n",
       "    <tr>\n",
       "      <th>Dorchester</th>\n",
       "      <td>Larceny and vandalism ; Police investigation p...</td>\n",
       "    </tr>\n",
       "    <tr>\n",
       "      <th>Downtown</th>\n",
       "      <td>Larceny and vandalism ; Police investigation p...</td>\n",
       "    </tr>\n",
       "    <tr>\n",
       "      <th>East Boston</th>\n",
       "      <td>Larceny and vandalism ; Police investigation p...</td>\n",
       "    </tr>\n",
       "    <tr>\n",
       "      <th>Hyde Park</th>\n",
       "      <td>Larceny and vandalism ; Police investigation p...</td>\n",
       "    </tr>\n",
       "    <tr>\n",
       "      <th>Jamaica Plain</th>\n",
       "      <td>Larceny and vandalism ; Police investigation p...</td>\n",
       "    </tr>\n",
       "    <tr>\n",
       "      <th>Mattapan</th>\n",
       "      <td>Police investigation procedure ; Larceny and v...</td>\n",
       "    </tr>\n",
       "    <tr>\n",
       "      <th>Roxbury</th>\n",
       "      <td>Larceny and vandalism ; Police investigation p...</td>\n",
       "    </tr>\n",
       "    <tr>\n",
       "      <th>South Boston</th>\n",
       "      <td>Larceny and vandalism ; Police investigation p...</td>\n",
       "    </tr>\n",
       "    <tr>\n",
       "      <th>South End</th>\n",
       "      <td>Larceny and vandalism ; Police investigation p...</td>\n",
       "    </tr>\n",
       "    <tr>\n",
       "      <th>West Roxbury</th>\n",
       "      <td>Larceny and vandalism ; Police investigation p...</td>\n",
       "    </tr>\n",
       "  </tbody>\n",
       "</table>\n",
       "</div>"
      ],
      "text/plain": [
       "                                              OFFENSE_CODE_GROUP\n",
       "NAME                                                            \n",
       "Brighton       Larceny and vandalism ; Police investigation p...\n",
       "Charlestown    Larceny and vandalism ; Police investigation p...\n",
       "Dorchester     Larceny and vandalism ; Police investigation p...\n",
       "Downtown       Larceny and vandalism ; Police investigation p...\n",
       "East Boston    Larceny and vandalism ; Police investigation p...\n",
       "Hyde Park      Larceny and vandalism ; Police investigation p...\n",
       "Jamaica Plain  Larceny and vandalism ; Police investigation p...\n",
       "Mattapan       Police investigation procedure ; Larceny and v...\n",
       "Roxbury        Larceny and vandalism ; Police investigation p...\n",
       "South Boston   Larceny and vandalism ; Police investigation p...\n",
       "South End      Larceny and vandalism ; Police investigation p...\n",
       "West Roxbury   Larceny and vandalism ; Police investigation p..."
      ]
     },
     "execution_count": 231,
     "metadata": {},
     "output_type": "execute_result"
    }
   ],
   "source": [
    "# YOUR CODE HERE\n",
    "#get top offense category\n",
    "\n",
    "top_offense = lambda x: ' ; '.join(list(x.value_counts()[:3].index))\n",
    "\n",
    "offense_df = data.groupby('NAME').agg({'OFFENSE_CODE_GROUP': top_offense}).copy()\n",
    "offense_df"
   ]
  },
  {
   "cell_type": "markdown",
   "metadata": {},
   "source": [
    "**❓ Can you tell what is the second most common offense int the Brighton district?**"
   ]
  },
  {
   "cell_type": "code",
   "execution_count": 225,
   "metadata": {
    "ExecuteTime": {
     "end_time": "2021-06-29T12:13:53.436763Z",
     "start_time": "2021-06-29T12:13:53.401906Z"
    }
   },
   "outputs": [],
   "source": [
    "second_offense = lambda x: x.value_counts().sort_values(ascending=False).index[1]\n",
    "second_offense_df = data.groupby('NAME').agg({'OFFENSE_CODE_GROUP': second_offense}).copy()\n",
    "\n",
    "second_most_common_offence = second_offense_df.loc['Brighton'][0]"
   ]
  },
  {
   "cell_type": "code",
   "execution_count": 226,
   "metadata": {
    "ExecuteTime": {
     "end_time": "2021-06-29T12:13:53.643675Z",
     "start_time": "2021-06-29T12:13:53.640784Z"
    }
   },
   "outputs": [
    {
     "name": "stdout",
     "output_type": "stream",
     "text": [
      "The second most common offense in the Brighton district is Police investigation procedure.\n"
     ]
    }
   ],
   "source": [
    "\n",
    "print(f'The second most common offense in the Brighton district is {second_most_common_offence}.')"
   ]
  },
  {
   "cell_type": "markdown",
   "metadata": {},
   "source": [
    "### Average distance to the police station per district"
   ]
  },
  {
   "cell_type": "markdown",
   "metadata": {},
   "source": [
    "Second, based on the Haversine distance function defined below, the head of the Police Department would like to know, for each district, **the average distance between the location of the incident and the police station**. \n",
    "\n",
    "**📝 Construct a DataFrame with one row per police district, designated by its full name, and one column that displays this average Haversine distance.**"
   ]
  },
  {
   "cell_type": "code",
   "execution_count": 185,
   "metadata": {
    "ExecuteTime": {
     "end_time": "2021-06-29T10:05:15.014326Z",
     "start_time": "2021-06-29T10:05:15.008219Z"
    }
   },
   "outputs": [],
   "source": [
    "# Haversine distance function\n",
    "from math import radians, sin, cos, asin, sqrt\n",
    "\n",
    "def haversine_distance(lon1, lat1, lon2, lat2):\n",
    "    \"\"\"\n",
    "    Compute distance (km) between two pairs of (lat, lng) coordinates\n",
    "    See - (https://en.wikipedia.org/wiki/Haversine_formula)\n",
    "    \"\"\"\n",
    "    \n",
    "    lon1, lat1, lon2, lat2 = map(radians, [lon1, lat1, lon2, lat2])\n",
    "    dlon = lon2 - lon1\n",
    "    dlat = lat2 - lat1\n",
    "    \n",
    "    a = sin(dlat / 2) ** 2 + cos(lat1) * cos(lat2) * sin(dlon / 2) ** 2\n",
    "    \n",
    "    return 2 * 6371 * asin(sqrt(a))"
   ]
  },
  {
   "cell_type": "code",
   "execution_count": 182,
   "metadata": {
    "ExecuteTime": {
     "end_time": "2021-06-29T10:04:53.739997Z",
     "start_time": "2021-06-29T10:04:53.723521Z"
    }
   },
   "outputs": [
    {
     "data": {
      "text/html": [
       "<div>\n",
       "<style scoped>\n",
       "    .dataframe tbody tr th:only-of-type {\n",
       "        vertical-align: middle;\n",
       "    }\n",
       "\n",
       "    .dataframe tbody tr th {\n",
       "        vertical-align: top;\n",
       "    }\n",
       "\n",
       "    .dataframe thead th {\n",
       "        text-align: right;\n",
       "    }\n",
       "</style>\n",
       "<table border=\"1\" class=\"dataframe\">\n",
       "  <thead>\n",
       "    <tr style=\"text-align: right;\">\n",
       "      <th></th>\n",
       "      <th>INCIDENT_NUMBER</th>\n",
       "      <th>OFFENSE_CODE_GROUP</th>\n",
       "      <th>SHOOTING</th>\n",
       "      <th>OCCURRED_ON_DATE</th>\n",
       "      <th>LAT</th>\n",
       "      <th>LONG</th>\n",
       "      <th>NAME</th>\n",
       "      <th>LAT_POLICE_STATION</th>\n",
       "      <th>LONG_POLICE_STATION</th>\n",
       "    </tr>\n",
       "  </thead>\n",
       "  <tbody>\n",
       "    <tr>\n",
       "      <th>0</th>\n",
       "      <td>I192068249</td>\n",
       "      <td>Other</td>\n",
       "      <td>0</td>\n",
       "      <td>2015-08-28 10:20:00</td>\n",
       "      <td>42.330119</td>\n",
       "      <td>-71.084251</td>\n",
       "      <td>Roxbury</td>\n",
       "      <td>42.328894</td>\n",
       "      <td>-71.085359</td>\n",
       "    </tr>\n",
       "    <tr>\n",
       "      <th>1</th>\n",
       "      <td>I182074094</td>\n",
       "      <td>Violence and harassment</td>\n",
       "      <td>0</td>\n",
       "      <td>2015-09-14 09:31:00</td>\n",
       "      <td>42.315142</td>\n",
       "      <td>-71.067047</td>\n",
       "      <td>Roxbury</td>\n",
       "      <td>42.328894</td>\n",
       "      <td>-71.085359</td>\n",
       "    </tr>\n",
       "    <tr>\n",
       "      <th>2</th>\n",
       "      <td>I182054888</td>\n",
       "      <td>Violence and harassment</td>\n",
       "      <td>0</td>\n",
       "      <td>2015-07-12 15:37:00</td>\n",
       "      <td>42.312243</td>\n",
       "      <td>-71.075499</td>\n",
       "      <td>Roxbury</td>\n",
       "      <td>42.328894</td>\n",
       "      <td>-71.085359</td>\n",
       "    </tr>\n",
       "    <tr>\n",
       "      <th>3</th>\n",
       "      <td>I182054888</td>\n",
       "      <td>Other</td>\n",
       "      <td>0</td>\n",
       "      <td>2015-07-12 15:37:00</td>\n",
       "      <td>42.312243</td>\n",
       "      <td>-71.075499</td>\n",
       "      <td>Roxbury</td>\n",
       "      <td>42.328894</td>\n",
       "      <td>-71.085359</td>\n",
       "    </tr>\n",
       "    <tr>\n",
       "      <th>4</th>\n",
       "      <td>I182054888</td>\n",
       "      <td>Other</td>\n",
       "      <td>0</td>\n",
       "      <td>2015-07-12 15:37:00</td>\n",
       "      <td>42.312243</td>\n",
       "      <td>-71.075499</td>\n",
       "      <td>Roxbury</td>\n",
       "      <td>42.328894</td>\n",
       "      <td>-71.085359</td>\n",
       "    </tr>\n",
       "  </tbody>\n",
       "</table>\n",
       "</div>"
      ],
      "text/plain": [
       "  INCIDENT_NUMBER       OFFENSE_CODE_GROUP  SHOOTING     OCCURRED_ON_DATE  \\\n",
       "0      I192068249                    Other         0  2015-08-28 10:20:00   \n",
       "1      I182074094  Violence and harassment         0  2015-09-14 09:31:00   \n",
       "2      I182054888  Violence and harassment         0  2015-07-12 15:37:00   \n",
       "3      I182054888                    Other         0  2015-07-12 15:37:00   \n",
       "4      I182054888                    Other         0  2015-07-12 15:37:00   \n",
       "\n",
       "         LAT       LONG     NAME  LAT_POLICE_STATION  LONG_POLICE_STATION  \n",
       "0  42.330119 -71.084251  Roxbury           42.328894           -71.085359  \n",
       "1  42.315142 -71.067047  Roxbury           42.328894           -71.085359  \n",
       "2  42.312243 -71.075499  Roxbury           42.328894           -71.085359  \n",
       "3  42.312243 -71.075499  Roxbury           42.328894           -71.085359  \n",
       "4  42.312243 -71.075499  Roxbury           42.328894           -71.085359  "
      ]
     },
     "execution_count": 182,
     "metadata": {},
     "output_type": "execute_result"
    }
   ],
   "source": [
    "data.head()"
   ]
  },
  {
   "cell_type": "code",
   "execution_count": 193,
   "metadata": {
    "ExecuteTime": {
     "end_time": "2021-06-29T10:12:37.592834Z",
     "start_time": "2021-06-29T10:12:35.679725Z"
    }
   },
   "outputs": [],
   "source": [
    "#Let's start by building a distance column\n",
    "data['DISTANCE'] = data.apply(lambda row: haversine_distance(row['LAT'], row['LONG'], \\\n",
    "                                                    row['LAT_POLICE_STATION'], row['LONG_POLICE_STATION']), axis=1)\n"
   ]
  },
  {
   "cell_type": "code",
   "execution_count": 194,
   "metadata": {
    "ExecuteTime": {
     "end_time": "2021-06-29T10:12:37.635033Z",
     "start_time": "2021-06-29T10:12:37.611777Z"
    }
   },
   "outputs": [
    {
     "data": {
      "text/html": [
       "<div>\n",
       "<style scoped>\n",
       "    .dataframe tbody tr th:only-of-type {\n",
       "        vertical-align: middle;\n",
       "    }\n",
       "\n",
       "    .dataframe tbody tr th {\n",
       "        vertical-align: top;\n",
       "    }\n",
       "\n",
       "    .dataframe thead th {\n",
       "        text-align: right;\n",
       "    }\n",
       "</style>\n",
       "<table border=\"1\" class=\"dataframe\">\n",
       "  <thead>\n",
       "    <tr style=\"text-align: right;\">\n",
       "      <th></th>\n",
       "      <th>INCIDENT_NUMBER</th>\n",
       "      <th>OFFENSE_CODE_GROUP</th>\n",
       "      <th>SHOOTING</th>\n",
       "      <th>OCCURRED_ON_DATE</th>\n",
       "      <th>LAT</th>\n",
       "      <th>LONG</th>\n",
       "      <th>NAME</th>\n",
       "      <th>LAT_POLICE_STATION</th>\n",
       "      <th>LONG_POLICE_STATION</th>\n",
       "      <th>Distance</th>\n",
       "      <th>DISTANCE</th>\n",
       "    </tr>\n",
       "  </thead>\n",
       "  <tbody>\n",
       "    <tr>\n",
       "      <th>0</th>\n",
       "      <td>I192068249</td>\n",
       "      <td>Other</td>\n",
       "      <td>0</td>\n",
       "      <td>2015-08-28 10:20:00</td>\n",
       "      <td>42.330119</td>\n",
       "      <td>-71.084251</td>\n",
       "      <td>Roxbury</td>\n",
       "      <td>42.328894</td>\n",
       "      <td>-71.085359</td>\n",
       "      <td>0.130888</td>\n",
       "      <td>0.130888</td>\n",
       "    </tr>\n",
       "    <tr>\n",
       "      <th>1</th>\n",
       "      <td>I182074094</td>\n",
       "      <td>Violence and harassment</td>\n",
       "      <td>0</td>\n",
       "      <td>2015-09-14 09:31:00</td>\n",
       "      <td>42.315142</td>\n",
       "      <td>-71.067047</td>\n",
       "      <td>Roxbury</td>\n",
       "      <td>42.328894</td>\n",
       "      <td>-71.085359</td>\n",
       "      <td>2.095736</td>\n",
       "      <td>2.095736</td>\n",
       "    </tr>\n",
       "    <tr>\n",
       "      <th>2</th>\n",
       "      <td>I182054888</td>\n",
       "      <td>Violence and harassment</td>\n",
       "      <td>0</td>\n",
       "      <td>2015-07-12 15:37:00</td>\n",
       "      <td>42.312243</td>\n",
       "      <td>-71.075499</td>\n",
       "      <td>Roxbury</td>\n",
       "      <td>42.328894</td>\n",
       "      <td>-71.085359</td>\n",
       "      <td>1.249995</td>\n",
       "      <td>1.249995</td>\n",
       "    </tr>\n",
       "    <tr>\n",
       "      <th>3</th>\n",
       "      <td>I182054888</td>\n",
       "      <td>Other</td>\n",
       "      <td>0</td>\n",
       "      <td>2015-07-12 15:37:00</td>\n",
       "      <td>42.312243</td>\n",
       "      <td>-71.075499</td>\n",
       "      <td>Roxbury</td>\n",
       "      <td>42.328894</td>\n",
       "      <td>-71.085359</td>\n",
       "      <td>1.249995</td>\n",
       "      <td>1.249995</td>\n",
       "    </tr>\n",
       "    <tr>\n",
       "      <th>4</th>\n",
       "      <td>I182054888</td>\n",
       "      <td>Other</td>\n",
       "      <td>0</td>\n",
       "      <td>2015-07-12 15:37:00</td>\n",
       "      <td>42.312243</td>\n",
       "      <td>-71.075499</td>\n",
       "      <td>Roxbury</td>\n",
       "      <td>42.328894</td>\n",
       "      <td>-71.085359</td>\n",
       "      <td>1.249995</td>\n",
       "      <td>1.249995</td>\n",
       "    </tr>\n",
       "  </tbody>\n",
       "</table>\n",
       "</div>"
      ],
      "text/plain": [
       "  INCIDENT_NUMBER       OFFENSE_CODE_GROUP  SHOOTING     OCCURRED_ON_DATE  \\\n",
       "0      I192068249                    Other         0  2015-08-28 10:20:00   \n",
       "1      I182074094  Violence and harassment         0  2015-09-14 09:31:00   \n",
       "2      I182054888  Violence and harassment         0  2015-07-12 15:37:00   \n",
       "3      I182054888                    Other         0  2015-07-12 15:37:00   \n",
       "4      I182054888                    Other         0  2015-07-12 15:37:00   \n",
       "\n",
       "         LAT       LONG     NAME  LAT_POLICE_STATION  LONG_POLICE_STATION  \\\n",
       "0  42.330119 -71.084251  Roxbury           42.328894           -71.085359   \n",
       "1  42.315142 -71.067047  Roxbury           42.328894           -71.085359   \n",
       "2  42.312243 -71.075499  Roxbury           42.328894           -71.085359   \n",
       "3  42.312243 -71.075499  Roxbury           42.328894           -71.085359   \n",
       "4  42.312243 -71.075499  Roxbury           42.328894           -71.085359   \n",
       "\n",
       "   Distance  DISTANCE  \n",
       "0  0.130888  0.130888  \n",
       "1  2.095736  2.095736  \n",
       "2  1.249995  1.249995  \n",
       "3  1.249995  1.249995  \n",
       "4  1.249995  1.249995  "
      ]
     },
     "execution_count": 194,
     "metadata": {},
     "output_type": "execute_result"
    }
   ],
   "source": [
    "#check if it worked as expected\n",
    "data.head()"
   ]
  },
  {
   "cell_type": "code",
   "execution_count": 202,
   "metadata": {
    "ExecuteTime": {
     "end_time": "2021-06-29T10:15:10.748097Z",
     "start_time": "2021-06-29T10:15:10.704680Z"
    },
    "tags": [
     "challengify"
    ]
   },
   "outputs": [
    {
     "data": {
      "text/html": [
       "<div>\n",
       "<style scoped>\n",
       "    .dataframe tbody tr th:only-of-type {\n",
       "        vertical-align: middle;\n",
       "    }\n",
       "\n",
       "    .dataframe tbody tr th {\n",
       "        vertical-align: top;\n",
       "    }\n",
       "\n",
       "    .dataframe thead th {\n",
       "        text-align: right;\n",
       "    }\n",
       "</style>\n",
       "<table border=\"1\" class=\"dataframe\">\n",
       "  <thead>\n",
       "    <tr style=\"text-align: right;\">\n",
       "      <th></th>\n",
       "      <th>DISTANCE</th>\n",
       "    </tr>\n",
       "    <tr>\n",
       "      <th>NAME</th>\n",
       "      <th></th>\n",
       "    </tr>\n",
       "  </thead>\n",
       "  <tbody>\n",
       "    <tr>\n",
       "      <th>Brighton</th>\n",
       "      <td>3.903</td>\n",
       "    </tr>\n",
       "    <tr>\n",
       "      <th>Charlestown</th>\n",
       "      <td>57.206</td>\n",
       "    </tr>\n",
       "    <tr>\n",
       "      <th>Dorchester</th>\n",
       "      <td>2.730</td>\n",
       "    </tr>\n",
       "    <tr>\n",
       "      <th>Downtown</th>\n",
       "      <td>5.982</td>\n",
       "    </tr>\n",
       "    <tr>\n",
       "      <th>East Boston</th>\n",
       "      <td>5.417</td>\n",
       "    </tr>\n",
       "    <tr>\n",
       "      <th>Hyde Park</th>\n",
       "      <td>1.861</td>\n",
       "    </tr>\n",
       "    <tr>\n",
       "      <th>Jamaica Plain</th>\n",
       "      <td>2.170</td>\n",
       "    </tr>\n",
       "    <tr>\n",
       "      <th>Mattapan</th>\n",
       "      <td>1.605</td>\n",
       "    </tr>\n",
       "    <tr>\n",
       "      <th>Roxbury</th>\n",
       "      <td>2.666</td>\n",
       "    </tr>\n",
       "    <tr>\n",
       "      <th>South Boston</th>\n",
       "      <td>30.836</td>\n",
       "    </tr>\n",
       "    <tr>\n",
       "      <th>South End</th>\n",
       "      <td>1.948</td>\n",
       "    </tr>\n",
       "    <tr>\n",
       "      <th>West Roxbury</th>\n",
       "      <td>18.179</td>\n",
       "    </tr>\n",
       "  </tbody>\n",
       "</table>\n",
       "</div>"
      ],
      "text/plain": [
       "               DISTANCE\n",
       "NAME                   \n",
       "Brighton          3.903\n",
       "Charlestown      57.206\n",
       "Dorchester        2.730\n",
       "Downtown          5.982\n",
       "East Boston       5.417\n",
       "Hyde Park         1.861\n",
       "Jamaica Plain     2.170\n",
       "Mattapan          1.605\n",
       "Roxbury           2.666\n",
       "South Boston     30.836\n",
       "South End         1.948\n",
       "West Roxbury     18.179"
      ]
     },
     "execution_count": 202,
     "metadata": {},
     "output_type": "execute_result"
    }
   ],
   "source": [
    "# YOUR CODE HERE\n",
    "#df built with average distance between incident and police station\n",
    "avg_distance_df = data.groupby('NAME').agg({'DISTANCE': lambda x: np.round(np.mean(x), 3)}).copy()\n",
    "avg_distance_df"
   ]
  },
  {
   "cell_type": "markdown",
   "metadata": {},
   "source": [
    "**❓ Can you tell what is the average distance between the police station and the offenses in the Brighton district?**"
   ]
  },
  {
   "cell_type": "code",
   "execution_count": 212,
   "metadata": {
    "ExecuteTime": {
     "end_time": "2021-06-29T10:18:36.686690Z",
     "start_time": "2021-06-29T10:18:36.678912Z"
    },
    "tags": [
     "challengify"
    ]
   },
   "outputs": [
    {
     "name": "stdout",
     "output_type": "stream",
     "text": [
      "The average distance between the police station and the offenses in the Brighton district is about 3.903 kms.\n"
     ]
    }
   ],
   "source": [
    "# YOUR CODE HERE\n",
    "average_distance_km = avg_distance_df.loc['Brighton'][0]\n",
    "\n",
    "print(f'The average distance between the police station and the \\\n",
    "offenses in the Brighton district is about {average_distance_km} kms.')"
   ]
  },
  {
   "cell_type": "code",
   "execution_count": 215,
   "metadata": {
    "ExecuteTime": {
     "end_time": "2021-06-29T10:19:36.287543Z",
     "start_time": "2021-06-29T10:19:36.280964Z"
    }
   },
   "outputs": [],
   "source": [
    "result = ChallengeResult('manipulation',\n",
    "                         second_most_common_offence=second_most_common_offence,\n",
    "                         average_distance_km=average_distance_km)\n",
    "result.write()"
   ]
  },
  {
   "cell_type": "markdown",
   "metadata": {
    "heading_collapsed": true
   },
   "source": [
    "# 3. Short presentation (REQUIRED TO VALIDATE THE CERTIFICATION)\n",
    "🚨🚨🚨🚨🚨🚨"
   ]
  },
  {
   "cell_type": "markdown",
   "metadata": {
    "hidden": true
   },
   "source": [
    "Using the latest dataset that you loaded, your mission is now to prepare 5 slides (including a title slide) that you would present to the head of the Police Department. You may or may not, as you prefer, include the output of the two \"Further data manipulations\" tasks in your presentation.\n",
    "\n",
    "⚠️  You can use any presentation editor of your choice, but **the slides must be shared either in HTML or in PDF format and saved in the current directory**"
   ]
  },
  {
   "cell_type": "markdown",
   "metadata": {
    "hidden": true
   },
   "source": [
    "Before you get started, here are four small pieces of advice:\n",
    "\n",
    "- to prepare your data visualisations, do not hesitate to create a separate, blank notebook; \n",
    "\n",
    "\n",
    "- pay particular attention to the readability and the clarity of your legends, titles, charts and tables; \n",
    "\n",
    "\n",
    "- the Pandas `resample` method might be useful if you want to plot time trends;\n",
    "\n",
    "\n",
    "- keep in mind that you are working with real data and sometimes, data are not very talkative. Do not feel discouraged if your charts do not provide revolutionary insights: typically, an absence of trend is a substantial piece of information!"
   ]
  },
  {
   "cell_type": "markdown",
   "metadata": {
    "hidden": true
   },
   "source": [
    "Good luck in changing Boston residents' lives!"
   ]
  },
  {
   "cell_type": "markdown",
   "metadata": {
    "heading_collapsed": true
   },
   "source": [
    "# A word of conclusion"
   ]
  },
  {
   "cell_type": "markdown",
   "metadata": {
    "hidden": true
   },
   "source": [
    "Congratulations for going through the exercise 🎉\n",
    "\n",
    "If you wish to pursue your analysis at some point, note that all datasets (and many others) are publicly available online, on the [Analyze Boston](https://data.boston.gov) website.\n",
    "\n",
    "Besides, if you are interested in the topic, you can start by reading the work of Nobel Prize laureate Gary Becker, who was the first to model crime as a rational phenomenon, similarly to an economic decision. This model, although it has limitations, marked a breakthrough in the study of crime and paved the way for many empirical studies that further analysed the socio-economic determinants of illegal activities. \n",
    "\n",
    "👉 [Link](https://olis.leg.state.or.us/liz/2017R1/Downloads/CommitteeMeetingDocument/125036) to download a full-text version of \"Crime and Punishment: An Economic Approach\" by Becker (1968)"
   ]
  }
 ],
 "metadata": {
  "kernelspec": {
   "display_name": "Python 3",
   "language": "python",
   "name": "python3"
  },
  "language_info": {
   "codemirror_mode": {
    "name": "ipython",
    "version": 3
   },
   "file_extension": ".py",
   "mimetype": "text/x-python",
   "name": "python",
   "nbconvert_exporter": "python",
   "pygments_lexer": "ipython3",
   "version": "3.8.10"
  },
  "toc": {
   "base_numbering": 1,
   "nav_menu": {},
   "number_sections": false,
   "sideBar": true,
   "skip_h1_title": false,
   "title_cell": "Table of Contents",
   "title_sidebar": "Contents",
   "toc_cell": false,
   "toc_position": {
    "height": "calc(100% - 180px)",
    "left": "10px",
    "top": "150px",
    "width": "288px"
   },
   "toc_section_display": true,
   "toc_window_display": false
  },
  "varInspector": {
   "cols": {
    "lenName": 16,
    "lenType": 16,
    "lenVar": 40
   },
   "kernels_config": {
    "python": {
     "delete_cmd_postfix": "",
     "delete_cmd_prefix": "del ",
     "library": "var_list.py",
     "varRefreshCmd": "print(var_dic_list())"
    },
    "r": {
     "delete_cmd_postfix": ") ",
     "delete_cmd_prefix": "rm(",
     "library": "var_list.r",
     "varRefreshCmd": "cat(var_dic_list()) "
    }
   },
   "types_to_exclude": [
    "module",
    "function",
    "builtin_function_or_method",
    "instance",
    "_Feature"
   ],
   "window_display": false
  }
 },
 "nbformat": 4,
 "nbformat_minor": 4
}
